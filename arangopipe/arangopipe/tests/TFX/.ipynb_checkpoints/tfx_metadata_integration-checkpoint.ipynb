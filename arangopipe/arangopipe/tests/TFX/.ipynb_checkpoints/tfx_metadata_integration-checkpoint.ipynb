{
 "cells": [
  {
   "cell_type": "markdown",
   "metadata": {},
   "source": [
    "# Arangopipe TFX Metadata Integration"
   ]
  },
  {
   "cell_type": "markdown",
   "metadata": {},
   "source": [
    "In this notebook we illustrate the process of storing TFX artifacts into Arangopipe. This is accomplished with using proto to create json representation of the artifacts. To use the stored representation in TFX, the stored json representation is transformed back to the TFX object and used with TFX components and libraries. In this example we illustrate this process on the summary statistics associated with a dataset. The california housing dataset is used for this example. The details of the process are shown below."
   ]
  },
  {
   "cell_type": "markdown",
   "metadata": {},
   "source": [
    "## Read the Data"
   ]
  },
  {
   "cell_type": "code",
   "execution_count": 1,
   "metadata": {},
   "outputs": [
    {
     "name": "stderr",
     "output_type": "stream",
     "text": [
      "/usr/local/lib/python3.6/dist-packages/apache_beam/__init__.py:84: UserWarning: Running the Apache Beam SDK on Python 3 is not yet fully supported. You may encounter buggy behavior or missing features.\n",
      "  'Running the Apache Beam SDK on Python 3 is not yet fully supported. '\n"
     ]
    }
   ],
   "source": [
    "import tensorflow_data_validation as tfdv\n",
    "import os\n",
    "DATA_DIR = \"./\"\n",
    "TRAIN_DATA = os.path.join(DATA_DIR, 'cal_housing.csv')\n",
    "\n"
   ]
  },
  {
   "cell_type": "code",
   "execution_count": 2,
   "metadata": {},
   "outputs": [
    {
     "data": {
      "text/plain": [
       "'/workspace/experiments/tests/TFX'"
      ]
     },
     "execution_count": 2,
     "metadata": {},
     "output_type": "execute_result"
    }
   ],
   "source": [
    "pwd"
   ]
  },
  {
   "cell_type": "markdown",
   "metadata": {},
   "source": [
    "## Calculate the Statistics"
   ]
  },
  {
   "cell_type": "code",
   "execution_count": 3,
   "metadata": {},
   "outputs": [
    {
     "name": "stderr",
     "output_type": "stream",
     "text": [
      "WARNING: Logging before flag parsing goes to stderr.\n",
      "W0722 14:30:00.596516 140640373532480 deprecation_wrapper.py:119] From /usr/local/lib/python3.6/dist-packages/tensorflow_data_validation/utils/stats_gen_lib.py:144: The name tf.gfile.Exists is deprecated. Please use tf.io.gfile.exists instead.\n",
      "\n",
      "W0722 14:30:00.607689 140640373532480 deprecation_wrapper.py:119] From /usr/local/lib/python3.6/dist-packages/tensorflow_data_validation/utils/stats_gen_lib.py:292: The name tf.gfile.Glob is deprecated. Please use tf.io.gfile.glob instead.\n",
      "\n",
      "W0722 14:30:00.609966 140640373532480 deprecation_wrapper.py:119] From /usr/local/lib/python3.6/dist-packages/tensorflow_data_validation/utils/stats_gen_lib.py:298: The name tf.gfile.GFile is deprecated. Please use tf.io.gfile.GFile instead.\n",
      "\n",
      "W0722 14:30:00.715036 140640373532480 deprecation_wrapper.py:119] From /usr/local/lib/python3.6/dist-packages/tensorflow_transform/analyzers.py:948: The name tf.Session is deprecated. Please use tf.compat.v1.Session instead.\n",
      "\n",
      "W0722 14:30:00.753403 140640373532480 deprecation_wrapper.py:119] From /usr/local/lib/python3.6/dist-packages/tensorflow_transform/analyzers.py:994: The name tf.placeholder is deprecated. Please use tf.compat.v1.placeholder instead.\n",
      "\n",
      "W0722 14:30:09.606425 140640373532480 tfrecordio.py:57] Couldn't find python-snappy so the implementation of _TFRecordUtil._masked_crc32c is not as fast as it could be.\n",
      "W0722 14:30:09.760538 140640373532480 deprecation.py:323] From /usr/local/lib/python3.6/dist-packages/tensorflow_data_validation/utils/stats_gen_lib.py:328: tf_record_iterator (from tensorflow.python.lib.io.tf_record) is deprecated and will be removed in a future version.\n",
      "Instructions for updating:\n",
      "Use eager execution and: \n",
      "`tf.data.TFRecordDataset(path)`\n"
     ]
    }
   ],
   "source": [
    "train_stats = tfdv.generate_statistics_from_csv(TRAIN_DATA, delimiter=',')"
   ]
  },
  {
   "cell_type": "markdown",
   "metadata": {},
   "source": [
    "## Visualize the Statistics "
   ]
  },
  {
   "cell_type": "code",
   "execution_count": 4,
   "metadata": {},
   "outputs": [
    {
     "data": {
      "text/html": [
       "<iframe id='facets-iframe' width=\"100%\" height=\"500px\"></iframe>\n",
       "        <script>\n",
       "        facets_iframe = document.getElementById('facets-iframe');\n",
       "        facets_html = '<link rel=\"import\" href=\"https://raw.githubusercontent.com/PAIR-code/facets/master/facets-dist/facets-jupyter.html\"><facets-overview proto-input=\"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\"></facets-overview>';\n",
       "        facets_iframe.contentWindow.document.write(facets_html);\n",
       "         facets_iframe.id = \"\";\n",
       "         setTimeout(() => {\n",
       "           facets_iframe.setAttribute('height', facets_iframe.contentWindow.document.body.offsetHeight + 'px')\n",
       "         }, 1500)\n",
       "         </script>"
      ],
      "text/plain": [
       "<IPython.core.display.HTML object>"
      ]
     },
     "metadata": {},
     "output_type": "display_data"
    }
   ],
   "source": [
    "tfdv.visualize_statistics(train_stats)"
   ]
  },
  {
   "cell_type": "markdown",
   "metadata": {},
   "source": [
    "## Infer the Schema"
   ]
  },
  {
   "cell_type": "code",
   "execution_count": 5,
   "metadata": {},
   "outputs": [],
   "source": [
    "schema = tfdv.infer_schema(train_stats)"
   ]
  },
  {
   "cell_type": "markdown",
   "metadata": {},
   "source": [
    "## Use Arangopipe for Metadata Storage"
   ]
  },
  {
   "cell_type": "code",
   "execution_count": 8,
   "metadata": {},
   "outputs": [],
   "source": [
    "from arangopipe.arangopipe_api import ArangoPipe\n",
    "from arangopipe.arangopipe_admin_api import ArangoPipeAdmin\n",
    "from arangopipe.arangopipe_config import ArangoPipeConfig\n",
    "conn_config = ArangoPipeConfig()\n",
    "conn_config.set_dbconnection(hostname = \"localhost\", port = 8529,\\\n",
    "                                root_user = \"root\", root_user_password = \"open sesame\")"
   ]
  },
  {
   "cell_type": "code",
   "execution_count": 9,
   "metadata": {},
   "outputs": [
    {
     "name": "stderr",
     "output_type": "stream",
     "text": [
      "I0722 14:31:03.796445 140640373532480 arangopipe_api.py:177] Arango Pipe ML Graph initialized\n"
     ]
    }
   ],
   "source": [
    "import pandas as pd\n",
    "admin = ArangoPipeAdmin(conn_config)\n",
    "ap = ArangoPipe(conn_config)\n",
    "fp =\"cal_housing.csv\"\n",
    "df = pd.read_csv(fp)"
   ]
  },
  {
   "cell_type": "markdown",
   "metadata": {},
   "source": [
    "## Create JSON Artifact Representation"
   ]
  },
  {
   "cell_type": "code",
   "execution_count": 10,
   "metadata": {},
   "outputs": [],
   "source": [
    "from google.protobuf import json_format\n",
    "enc_stats = json_format.MessageToJson(train_stats)\n",
    "enc_schema = json_format.MessageToJson(schema)"
   ]
  },
  {
   "cell_type": "code",
   "execution_count": 11,
   "metadata": {},
   "outputs": [],
   "source": [
    "from tensorflow_metadata.proto.v0 import statistics_pb2\n",
    "from tensorflow_metadata.proto.v0 import schema_pb2"
   ]
  },
  {
   "cell_type": "markdown",
   "metadata": {},
   "source": [
    "## Store Artifacts in Arangopipe"
   ]
  },
  {
   "cell_type": "code",
   "execution_count": 12,
   "metadata": {},
   "outputs": [
    {
     "name": "stderr",
     "output_type": "stream",
     "text": [
      "I0722 14:31:10.011958 140640373532480 arangopipe_api.py:218] Recording dataset dataset link {'_id': 'datasets/30138', '_key': '30138', '_rev': '_Z_mV35m---'}\n",
      "I0722 14:31:10.016732 140640373532480 arangopipe_api.py:228] Recording featureset {'_id': 'featuresets/30141', '_key': '30141', '_rev': '_Z_mV356---'}\n",
      "I0722 14:31:10.021649 140640373532480 arangopipe_api.py:236] Recording featureset dataset link {'_id': 'featureset_dataset/30141-30138', '_key': '30141-30138', '_rev': '_Z_mV36O---'}\n"
     ]
    }
   ],
   "source": [
    "data = pd.read_csv(fp)\n",
    "ds_info = {\"name\" : \"cal_housing_dataset\",\\\n",
    "                   \"description\": \"data about housing in California\",\\\n",
    "           \"encoded_stats\": enc_stats,\\\n",
    "           \"encoded_schema\": enc_schema,\\\n",
    "           \"source\": \"UCI ML Repository\" }\n",
    "ds_reg = ap.register_dataset(ds_info)\n",
    "featureset = data.dtypes.to_dict()\n",
    "featureset = {k:str(featureset[k]) for k in featureset}\n",
    "featureset[\"name\"] = \"wine_no_transformations\"\n",
    "fs_reg = ap.register_featureset(featureset, ds_reg[\"_key\"])"
   ]
  },
  {
   "cell_type": "markdown",
   "metadata": {},
   "source": [
    "## Retrieve Stored Artifacts from Arangopipe"
   ]
  },
  {
   "cell_type": "code",
   "execution_count": 13,
   "metadata": {},
   "outputs": [],
   "source": [
    "dataset = ap.lookup_dataset(\"cal_housing_dataset\")"
   ]
  },
  {
   "cell_type": "markdown",
   "metadata": {},
   "source": [
    "## Get the JSON Representation of TFX Artifacts"
   ]
  },
  {
   "cell_type": "code",
   "execution_count": 14,
   "metadata": {},
   "outputs": [],
   "source": [
    "retrieved_stats = dataset[\"encoded_stats\"]\n",
    "retrieved_schema = dataset[\"encoded_schema\"]"
   ]
  },
  {
   "cell_type": "markdown",
   "metadata": {},
   "source": [
    "## Convert JSON Representation to TFX Objects"
   ]
  },
  {
   "cell_type": "code",
   "execution_count": 15,
   "metadata": {},
   "outputs": [],
   "source": [
    "remat_stats = json_format.Parse(retrieved_stats, statistics_pb2.DatasetFeatureStatisticsList())\n",
    "remat_schema = json_format.Parse(retrieved_schema, schema_pb2.Schema())"
   ]
  },
  {
   "cell_type": "markdown",
   "metadata": {},
   "source": [
    "## Use TFX Objects"
   ]
  },
  {
   "cell_type": "code",
   "execution_count": 16,
   "metadata": {},
   "outputs": [
    {
     "data": {
      "text/html": [
       "<iframe id='facets-iframe' width=\"100%\" height=\"500px\"></iframe>\n",
       "        <script>\n",
       "        facets_iframe = document.getElementById('facets-iframe');\n",
       "        facets_html = '<link rel=\"import\" href=\"https://raw.githubusercontent.com/PAIR-code/facets/master/facets-dist/facets-jupyter.html\"><facets-overview proto-input=\"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\"></facets-overview>';\n",
       "        facets_iframe.contentWindow.document.write(facets_html);\n",
       "         facets_iframe.id = \"\";\n",
       "         setTimeout(() => {\n",
       "           facets_iframe.setAttribute('height', facets_iframe.contentWindow.document.body.offsetHeight + 'px')\n",
       "         }, 1500)\n",
       "         </script>"
      ],
      "text/plain": [
       "<IPython.core.display.HTML object>"
      ]
     },
     "metadata": {},
     "output_type": "display_data"
    }
   ],
   "source": [
    "tfdv.visualize_statistics(remat_stats)"
   ]
  }
 ],
 "metadata": {
  "kernelspec": {
   "display_name": "Python 3",
   "language": "python",
   "name": "python3"
  },
  "language_info": {
   "codemirror_mode": {
    "name": "ipython",
    "version": 3
   },
   "file_extension": ".py",
   "mimetype": "text/x-python",
   "name": "python",
   "nbconvert_exporter": "python",
   "pygments_lexer": "ipython3",
   "version": "3.7.2"
  }
 },
 "nbformat": 4,
 "nbformat_minor": 2
}
