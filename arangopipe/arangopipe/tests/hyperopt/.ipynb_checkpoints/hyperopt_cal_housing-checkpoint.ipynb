{
 "cells": [
  {
   "cell_type": "markdown",
   "metadata": {},
   "source": [
    "# Using Arangopipe to Store Hyper-parameter Optimization Data"
   ]
  },
  {
   "cell_type": "markdown",
   "metadata": {},
   "source": [
    "In this notebook we will demonstrate the use of Arangopipe to store hyperparameter optimization data. We will use the california housing dataset for this purpose. We will conduct a hyperopt experiment to determine the best model for this problem. We will consider three regression models. The hyperopt experiment will run a large number of experiments (500) to determine the best model. We can store the parameterization of the experiment and the results from the experiment, in Arangopipe using jsonpickle. The data is encoded into json for storage. The json representation can then be transformed back to a python object at anytime. For example, if in subsequent experimental evaluation, you are interested in examining the parameter space used for earlier experiments, you can easily retrieve the older configuration to examine it."
   ]
  },
  {
   "cell_type": "code",
   "execution_count": 2,
   "metadata": {},
   "outputs": [
    {
     "ename": "ModuleNotFoundError",
     "evalue": "No module named 'arangopipe'",
     "output_type": "error",
     "traceback": [
      "\u001b[0;31m---------------------------------------------------------------------------\u001b[0m",
      "\u001b[0;31mModuleNotFoundError\u001b[0m                       Traceback (most recent call last)",
      "\u001b[0;32m<ipython-input-2-71c515f73a1a>\u001b[0m in \u001b[0;36m<module>\u001b[0;34m()\u001b[0m\n\u001b[0;32m----> 1\u001b[0;31m \u001b[0;32mimport\u001b[0m \u001b[0marangopipe\u001b[0m\u001b[0;34m\u001b[0m\u001b[0;34m\u001b[0m\u001b[0m\n\u001b[0m",
      "\u001b[0;31mModuleNotFoundError\u001b[0m: No module named 'arangopipe'"
     ]
    }
   ],
   "source": []
  },
  {
   "cell_type": "code",
   "execution_count": 1,
   "metadata": {},
   "outputs": [
    {
     "ename": "ModuleNotFoundError",
     "evalue": "No module named 'arangopipe'",
     "output_type": "error",
     "traceback": [
      "\u001b[0;31m---------------------------------------------------------------------------\u001b[0m",
      "\u001b[0;31mModuleNotFoundError\u001b[0m                       Traceback (most recent call last)",
      "\u001b[0;32m<ipython-input-1-42fc8fd96775>\u001b[0m in \u001b[0;36m<module>\u001b[0;34m()\u001b[0m\n\u001b[1;32m      2\u001b[0m \u001b[0mget_ipython\u001b[0m\u001b[0;34m(\u001b[0m\u001b[0;34m)\u001b[0m\u001b[0;34m.\u001b[0m\u001b[0mrun_line_magic\u001b[0m\u001b[0;34m(\u001b[0m\u001b[0;34m'matplotlib'\u001b[0m\u001b[0;34m,\u001b[0m \u001b[0;34m'inline'\u001b[0m\u001b[0;34m)\u001b[0m\u001b[0;34m\u001b[0m\u001b[0;34m\u001b[0m\u001b[0m\n\u001b[1;32m      3\u001b[0m \u001b[0;32mimport\u001b[0m \u001b[0mpandas\u001b[0m \u001b[0;32mas\u001b[0m \u001b[0mpd\u001b[0m\u001b[0;34m\u001b[0m\u001b[0;34m\u001b[0m\u001b[0m\n\u001b[0;32m----> 4\u001b[0;31m \u001b[0;32mimport\u001b[0m \u001b[0marangopipe\u001b[0m\u001b[0;34m\u001b[0m\u001b[0;34m\u001b[0m\u001b[0m\n\u001b[0m\u001b[1;32m      5\u001b[0m \u001b[0;32mfrom\u001b[0m \u001b[0marangopipe\u001b[0m \u001b[0;32mimport\u001b[0m \u001b[0mArangoPipe\u001b[0m\u001b[0;34m\u001b[0m\u001b[0;34m\u001b[0m\u001b[0m\n\u001b[1;32m      6\u001b[0m \u001b[0mfp\u001b[0m \u001b[0;34m=\u001b[0m \u001b[0;34m\"cal_housing.csv\"\u001b[0m\u001b[0;34m\u001b[0m\u001b[0;34m\u001b[0m\u001b[0m\n",
      "\u001b[0;31mModuleNotFoundError\u001b[0m: No module named 'arangopipe'"
     ]
    }
   ],
   "source": [
    "import matplotlib.pyplot as plt\n",
    "%matplotlib inline\n",
    "import pandas as pd\n",
    "import ArangoPipe\n",
    "fp = \"cal_housing.csv\"\n",
    "df = pd.read_csv(fp)\n",
    "ap = ArangoPipe()"
   ]
  },
  {
   "cell_type": "markdown",
   "metadata": {},
   "source": [
    "## Read the data"
   ]
  },
  {
   "cell_type": "code",
   "execution_count": 2,
   "metadata": {},
   "outputs": [],
   "source": [
    "ds_reg = ap.lookup_dataset(\"cal_housing_dataset\")"
   ]
  },
  {
   "cell_type": "markdown",
   "metadata": {},
   "source": [
    "## Register Experiment Featureset"
   ]
  },
  {
   "cell_type": "code",
   "execution_count": 3,
   "metadata": {},
   "outputs": [],
   "source": [
    "import numpy as np\n",
    "df[\"medianHouseValue\"] = df[\"medianHouseValue\"].apply(lambda x: np.log(x))\n",
    "featureset = df.dtypes.to_dict()\n",
    "featureset = {k:str(featureset[k]) for k in featureset}\n",
    "featureset[\"name\"] = \"log_transformed_median_house_value\"\n",
    "fs_reg = ap.register_featureset(featureset, ds_reg[\"_key\"])"
   ]
  },
  {
   "cell_type": "markdown",
   "metadata": {},
   "source": [
    "## Run the Experiment"
   ]
  },
  {
   "cell_type": "code",
   "execution_count": 4,
   "metadata": {},
   "outputs": [],
   "source": [
    "from sklearn.model_selection import train_test_split\n",
    "preds = df.columns.tolist()\n",
    "preds.remove(\"medianHouseValue\")\n",
    "X = df[preds]\n",
    "Y = df[\"medianHouseValue\"]\n",
    "\n",
    "X_train, X_test, y_train, y_test = train_test_split(X, Y, test_size=0.33, random_state=42)"
   ]
  },
  {
   "cell_type": "code",
   "execution_count": 5,
   "metadata": {},
   "outputs": [
    {
     "name": "stderr",
     "output_type": "stream",
     "text": [
      "/home/admin2/anaconda3/lib/python3.7/site-packages/sklearn/ensemble/weight_boosting.py:29: DeprecationWarning: numpy.core.umath_tests is an internal NumPy module and should not be imported. It will be removed in a future NumPy release.\n",
      "  from numpy.core.umath_tests import inner1d\n"
     ]
    }
   ],
   "source": [
    "from sklearn import linear_model\n",
    "from sklearn.model_selection import cross_val_score\n",
    "from sklearn.ensemble import RandomForestRegressor\n",
    "from sklearn import neighbors\n",
    "from hyperopt import fmin, tpe, hp, STATUS_OK, Trials\n",
    "hyper_param_options =     [{\n",
    "        'type': 'lasso',\n",
    "        'alpha': hp.uniform('alpha', 0.0, 1)\n",
    "    },\n",
    "\n",
    "    {\n",
    "        'type': 'randomforest',\n",
    "        'max_depth': hp.choice('max_depth', range(1,5)),\n",
    "        'max_features': hp.choice('max_features', range(1,8)),\n",
    "        'n_estimators': hp.choice('n_estimators', range(1,50))\n",
    "    },\n",
    "    {\n",
    "        'type': 'knn',\n",
    "        'n_neighbors': hp.choice('knn_n_neighbors', range(1,20))\n",
    "    }\n",
    "]\n",
    "space = hp.choice('regressor_type', hyper_param_options)"
   ]
  },
  {
   "cell_type": "code",
   "execution_count": 6,
   "metadata": {},
   "outputs": [],
   "source": [
    "from sklearn.metrics import mean_squared_error\n",
    "def hyperopt_train_test(params):\n",
    "    regressor_type = params['type']\n",
    "    del params['type']\n",
    "    if regressor_type == 'lasso':\n",
    "        reg = linear_model.Lasso(**params)\n",
    "    elif regressor_type == 'randomforest':\n",
    "        reg = RandomForestRegressor(**params)\n",
    "    elif regressor_type == 'knn':\n",
    "        reg = neighbors.KNeighborsRegressor(**params)\n",
    "    else:\n",
    "        return 0\n",
    "    reg.fit(X_train, y_train)\n",
    "    ytest_pred = reg.predict(X_test)\n",
    "    return mean_squared_error(y_test, ytest_pred)"
   ]
  },
  {
   "cell_type": "code",
   "execution_count": 7,
   "metadata": {},
   "outputs": [
    {
     "name": "stdout",
     "output_type": "stream",
     "text": [
      "new best:                                            \n",
      "0.33060970265276035                                  \n",
      "using                                                \n",
      "knn                                                  \n",
      "new best:                                                                      \n",
      "0.1785698052526255                                                             \n",
      "using                                                                          \n",
      "randomforest                                                                   \n",
      "new best:                                                                      \n",
      "0.12935838517553624                                                           \n",
      "using                                                                         \n",
      "randomforest                                                                  \n",
      "new best:                                                                       \n",
      "0.12636883777172153                                                             \n",
      "using                                                                           \n",
      "randomforest                                                                    \n",
      "new best:                                                                       \n",
      "0.12547680671918923                                                             \n",
      "using                                                                           \n",
      "randomforest                                                                    \n",
      "new best:                                                                       \n",
      "0.1249524801888596                                                              \n",
      "using                                                                           \n",
      "randomforest                                                                    \n",
      "new best:                                                                       \n",
      "0.11618020551080252                                                            \n",
      "using                                                                          \n",
      "lasso                                                                          \n",
      "new best:                                                                      \n",
      "0.11408162879607096                                                             \n",
      "using                                                                           \n",
      "lasso                                                                           \n",
      "new best:                                                                       \n",
      "0.11377498313747976                                                             \n",
      "using                                                                           \n",
      "lasso                                                                           \n",
      "new best:                                                                       \n",
      "0.11374355812826195                                                             \n",
      "using                                                                           \n",
      "lasso                                                                           \n",
      "iters:                                                                          \n",
      "100                                                                             \n",
      ", acc:                                                                          \n",
      "0.2830259001504874                                                              \n",
      "using                                                                           \n",
      "{'alpha': 0.6250866669481787, 'type': 'lasso'}                                  \n",
      "new best:                                                                        \n",
      "0.11373429170190988                                                              \n",
      "using                                                                            \n",
      "lasso                                                                            \n",
      "new best:                                                                        \n",
      "0.1137286692272779                                                               \n",
      "using                                                                            \n",
      "lasso                                                                            \n",
      "iters:                                                                           \n",
      "200                                                                             \n",
      ", acc:                                                                          \n",
      "0.15947370509287206                                                             \n",
      "using                                                                           \n",
      "{'alpha': 0.13178078944719857, 'type': 'lasso'}                                 \n",
      "iters:                                                                          \n",
      "300                                                                             \n",
      ", acc:                                                                          \n",
      "0.11373156657758988                                                             \n",
      "using                                                                           \n",
      "{'alpha': 0.00025079784656637227, 'type': 'lasso'}                              \n",
      "iters:                                                                          \n",
      "400                                                                             \n",
      ", acc:                                                                          \n",
      "0.28426344197081016                                                             \n",
      "using                                                                           \n",
      "{'alpha': 0.749767360298221, 'type': 'lasso'}                                   \n",
      "new best:                                                                       \n",
      "0.11372698149190444                                                             \n",
      "using                                                                           \n",
      "lasso                                                                           \n",
      "new best:                                                                        \n",
      "0.11372599985577111                                                              \n",
      "using                                                                            \n",
      "lasso                                                                            \n",
      "iters:                                                                           \n",
      "500                                                                              \n",
      ", acc:                                                                           \n",
      "0.2795872127367418                                                               \n",
      "using                                                                            \n",
      "{'n_neighbors': 4, 'type': 'knn'}                                                \n",
      "100%|██████████| 500/500 [00:26<00:00, 19.14it/s, best loss: 0.11372599985577111]\n",
      "best: {'alpha': 3.3192233506948454e-06, 'regressor_type': 0}\n"
     ]
    }
   ],
   "source": [
    "count = 0\n",
    "best = 100\n",
    "def f(params):\n",
    "    global best, count\n",
    "    count += 1\n",
    "    rmse = hyperopt_train_test(params.copy())\n",
    "    if rmse < best:\n",
    "        print ('new best:', rmse, 'using', params['type'])\n",
    "        best = rmse\n",
    "    if count % 100 == 0:\n",
    "        print ('iters:', count, ', acc:', rmse, 'using', params)\n",
    "    return {'loss': rmse, 'status': STATUS_OK}\n",
    "\n",
    "trials = Trials()\n",
    "best = fmin(f, space, algo=tpe.suggest, max_evals=500, trials=trials)\n",
    "print ('best:', best)"
   ]
  },
  {
   "cell_type": "markdown",
   "metadata": {},
   "source": [
    "## Convert Hyperopt Space to JSON"
   ]
  },
  {
   "cell_type": "code",
   "execution_count": 8,
   "metadata": {},
   "outputs": [],
   "source": [
    "import jsonpickle\n",
    "frozen_space = jsonpickle.encode(space)"
   ]
  },
  {
   "cell_type": "markdown",
   "metadata": {},
   "source": [
    "## Register the Hyperopt Model"
   ]
  },
  {
   "cell_type": "code",
   "execution_count": 9,
   "metadata": {},
   "outputs": [],
   "source": [
    "model_info = {\"name\": \"calhousing_hyperparam_exp\",\\\n",
    "              \"type\": \"hyperopt experiment\"}\n",
    "model_reg = ap.register_model(model_info)"
   ]
  },
  {
   "cell_type": "markdown",
   "metadata": {},
   "source": [
    "## Generate ID for Experiment Storage"
   ]
  },
  {
   "cell_type": "code",
   "execution_count": 12,
   "metadata": {},
   "outputs": [],
   "source": [
    "import uuid\n",
    "ruuid = str(uuid.uuid4().int)"
   ]
  },
  {
   "cell_type": "markdown",
   "metadata": {},
   "source": [
    "## Store Results in Arangopipe"
   ]
  },
  {
   "cell_type": "code",
   "execution_count": 13,
   "metadata": {},
   "outputs": [],
   "source": [
    "model_params = {\"hyper-param-space\": frozen_space, \"run_id\": ruuid}"
   ]
  },
  {
   "cell_type": "code",
   "execution_count": 14,
   "metadata": {},
   "outputs": [],
   "source": [
    "import datetime\n",
    "model_perf = {\"best\": jsonpickle.encode(best), \"run_id\": ruuid, \"timestamp\": str(datetime.datetime.now())}"
   ]
  },
  {
   "cell_type": "code",
   "execution_count": 15,
   "metadata": {},
   "outputs": [],
   "source": [
    "run_info = {\"dataset\" : ds_reg[\"_key\"],\\\n",
    "                    \"featureset\": fs_reg[\"_key\"],\\\n",
    "                    \"run_id\": ruuid,\\\n",
    "                    \"model\": model_reg[\"_key\"],\\\n",
    "                    \"model-params\": model_params,\\\n",
    "                    \"model-perf\": model_perf,\\\n",
    "                    \"pipeline\" : \"cal_housing_hyper_parameter_optimization\",\\\n",
    "                    \"project\": \"House Price Estimation\"}\n",
    "ap.log_run(run_info)"
   ]
  }
 ],
 "metadata": {
  "kernelspec": {
   "display_name": "Python 3",
   "language": "python",
   "name": "python3"
  },
  "language_info": {
   "codemirror_mode": {
    "name": "ipython",
    "version": 3
   },
   "file_extension": ".py",
   "mimetype": "text/x-python",
   "name": "python",
   "nbconvert_exporter": "python",
   "pygments_lexer": "ipython3",
   "version": "3.7.2"
  }
 },
 "nbformat": 4,
 "nbformat_minor": 2
}
