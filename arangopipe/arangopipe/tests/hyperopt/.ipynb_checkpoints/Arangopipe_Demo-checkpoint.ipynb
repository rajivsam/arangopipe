{
 "cells": [
  {
   "cell_type": "markdown",
   "metadata": {},
   "source": [
    "# Overview of Arangopipe"
   ]
  },
  {
   "cell_type": "markdown",
   "metadata": {},
   "source": [
    "This notebook provides an overview of **Arangopipe**, a component of ArangoDB for managing metadata from machine learning pipelines. Arangopipe has two API's:\n",
    "1. **arangopipe_api**\n",
    "2. **arangopipe_admin_api**\n",
    "**arangopipe_api** is the set of API used for machine learning metadata management. **arangopipe_admin_api** is the API used to provision users into **Arangopipe**. The following notebook illustrates both these API's. We will illustrate this with a machine learning model to predict house prices. The data is available in the UCI machine learning repository."
   ]
  },
  {
   "cell_type": "markdown",
   "metadata": {},
   "source": [
    "## Administrative Pre-requisites"
   ]
  },
  {
   "cell_type": "markdown",
   "metadata": {},
   "source": [
    "The first task is to setup a project in Arangopipe. A project could require multiple models. For illustrative purposes, we will create a single model. Setting up a project is accomplished using the **arangopipe_admin_api**"
   ]
  },
  {
   "cell_type": "markdown",
   "metadata": {},
   "source": [
    "### Install ArangoDB\n",
    "Install arangodb. The docker version of arangodb can be installed by:\n",
    "\n",
    "`docker run -p 8529:8529 -e ARANGO_ROOT_PASSWORD=openSesame arangodb/arangodb:3.4.6`"
   ]
  },
  {
   "cell_type": "markdown",
   "metadata": {},
   "source": [
    "### Install Arangopipe"
   ]
  },
  {
   "cell_type": "code",
   "execution_count": 1,
   "metadata": {},
   "outputs": [
    {
     "name": "stdout",
     "output_type": "stream",
     "text": [
      "Requirement already satisfied: python-arango in /home/admin2/anaconda3/lib/python3.7/site-packages (4.4.0)\r\n",
      "Requirement already satisfied: requests in /home/admin2/anaconda3/lib/python3.7/site-packages (from python-arango) (2.19.1)\r\n",
      "Requirement already satisfied: six in /home/admin2/anaconda3/lib/python3.7/site-packages (from python-arango) (1.11.0)\r\n",
      "Requirement already satisfied: chardet<3.1.0,>=3.0.2 in /home/admin2/anaconda3/lib/python3.7/site-packages (from requests->python-arango) (3.0.4)\r\n",
      "Requirement already satisfied: idna<2.8,>=2.5 in /home/admin2/anaconda3/lib/python3.7/site-packages (from requests->python-arango) (2.7)\r\n",
      "Requirement already satisfied: urllib3<1.24,>=1.21.1 in /home/admin2/anaconda3/lib/python3.7/site-packages (from requests->python-arango) (1.23)\r\n",
      "Requirement already satisfied: certifi>=2017.4.17 in /home/admin2/anaconda3/lib/python3.7/site-packages (from requests->python-arango) (2019.3.9)\r\n"
     ]
    }
   ],
   "source": [
    "import sys\n",
    "!{sys.executable} -m pip install python-arango"
   ]
  },
  {
   "cell_type": "code",
   "execution_count": 4,
   "metadata": {},
   "outputs": [
    {
     "name": "stdout",
     "output_type": "stream",
     "text": [
      "Looking in indexes: https://test.pypi.org/simple/\n",
      "Collecting arangopipe\n",
      "  Downloading https://test-files.pythonhosted.org/packages/ce/69/1b0fad15f12b7b2aab011b9b342afc8bcee7ee9b136393524ec2c7bfa13d/arangopipe-0.0.20-py3-none-any.whl\n",
      "Installing collected packages: arangopipe\n",
      "Successfully installed arangopipe-0.0.20\n"
     ]
    }
   ],
   "source": [
    "!{sys.executable} -m pip install -i https://test.pypi.org/simple/ arangopipe"
   ]
  },
  {
   "cell_type": "markdown",
   "metadata": {},
   "source": [
    "### Create a Project\n",
    "Use the admministrative API to register a project with Arangopipe"
   ]
  },
  {
   "cell_type": "code",
   "execution_count": 5,
   "metadata": {},
   "outputs": [],
   "source": [
    "from arangopipe.arangopipe_admin_api import ArangoPipeAdmin\n",
    "proj_info = {\"name\": \"Housing Price Estimation Project \"}\n",
    "admin = ArangoPipeAdmin()\n",
    "proj_reg = admin.register_project(proj_info)"
   ]
  },
  {
   "cell_type": "markdown",
   "metadata": {},
   "source": [
    "### Associate Model with Project\n",
    "This pipeline is going to determine the best regression model to use for the project. We will conduct this experiment with hyperopt. First, however we link the the model developed in this pipeline with the project"
   ]
  },
  {
   "cell_type": "code",
   "execution_count": 6,
   "metadata": {},
   "outputs": [],
   "source": [
    "from arangopipe.arangopipe_api import ArangoPipe\n",
    "ap = ArangoPipe()\n",
    "model_info = {\"name\": \"hyper-param-optimization\",  \"type\": \"hyper-opt-experiment\"}\n",
    "model_reg = ap.register_model(model_info, \"Housing Price Estimation Project\")"
   ]
  },
  {
   "cell_type": "markdown",
   "metadata": {},
   "source": [
    "## Pipeline Development\n",
    "This notebook illustrates the process of storing pipeline metadata while executing a machine learning pipeline. The objective with this experiment is to determine the best model for the dataset using the **Hyperopt** library. After conducting the experiments, the result is tagged and stored in **Arangopipe**. "
   ]
  },
  {
   "cell_type": "markdown",
   "metadata": {},
   "source": [
    "### Read Data"
   ]
  },
  {
   "cell_type": "code",
   "execution_count": 7,
   "metadata": {},
   "outputs": [],
   "source": [
    "import pandas as pd\n",
    "fp = \"cal_housing.csv\"\n",
    "df = pd.read_csv(fp)"
   ]
  },
  {
   "cell_type": "markdown",
   "metadata": {},
   "source": [
    "### Register the Dataset"
   ]
  },
  {
   "cell_type": "code",
   "execution_count": 8,
   "metadata": {},
   "outputs": [],
   "source": [
    "ds_info = {\"name\" : \"california-housing-dataset\",\\\n",
    "            \"description\": \"This dataset lists median house prices in Califoria. Various house features are provided\",\\\n",
    "           \"source\": \"UCI ML Repository\" }\n",
    "ds_reg = ap.register_dataset(ds_info)"
   ]
  },
  {
   "cell_type": "markdown",
   "metadata": {},
   "source": [
    "### Register the Featureset Generated from the Dataset\n",
    "A log transformation is required for the median-house value. The feature set generated from the dataset is registered with **Arangopipe**. Note that the featureset is linked to the dataset using the dataset registration obtained from the previous step"
   ]
  },
  {
   "cell_type": "code",
   "execution_count": 9,
   "metadata": {},
   "outputs": [],
   "source": [
    "import numpy as np\n",
    "df[\"medianHouseValue\"] = df[\"medianHouseValue\"].apply(lambda x: np.log(x))\n",
    "featureset = df.dtypes.to_dict()\n",
    "featureset = {k:str(featureset[k]) for k in featureset}\n",
    "featureset[\"name\"] = \"log_transformed_median_house_value\"\n",
    "fs_reg = ap.register_featureset(featureset, ds_reg[\"_key\"])"
   ]
  },
  {
   "cell_type": "markdown",
   "metadata": {},
   "source": [
    "### Run the Experiment"
   ]
  },
  {
   "cell_type": "code",
   "execution_count": 10,
   "metadata": {},
   "outputs": [],
   "source": [
    "from sklearn.model_selection import train_test_split\n",
    "preds = df.columns.tolist()\n",
    "preds.remove(\"medianHouseValue\")\n",
    "X = df[preds]\n",
    "Y = df[\"medianHouseValue\"]\n",
    "\n",
    "X_train, X_test, y_train, y_test = train_test_split(X, Y, test_size=0.33, random_state=42)"
   ]
  },
  {
   "cell_type": "markdown",
   "metadata": {},
   "source": [
    "**Set up the Hyperopt Experiment**\n",
    "\n",
    "Define the hyper-opt space. In this case, this represents the various models and their associated parametrizations"
   ]
  },
  {
   "cell_type": "code",
   "execution_count": 11,
   "metadata": {},
   "outputs": [
    {
     "name": "stderr",
     "output_type": "stream",
     "text": [
      "/home/admin2/anaconda3/lib/python3.7/site-packages/sklearn/ensemble/weight_boosting.py:29: DeprecationWarning: numpy.core.umath_tests is an internal NumPy module and should not be imported. It will be removed in a future NumPy release.\n",
      "  from numpy.core.umath_tests import inner1d\n"
     ]
    }
   ],
   "source": [
    "from sklearn import linear_model\n",
    "from sklearn.model_selection import cross_val_score\n",
    "from sklearn.ensemble import RandomForestRegressor\n",
    "from sklearn import neighbors\n",
    "from hyperopt import fmin, tpe, hp, STATUS_OK, Trials\n",
    "from sklearn.metrics import mean_squared_error\n",
    "\n",
    "hyper_param_options =     [{\n",
    "        'type': 'lasso',\n",
    "        'alpha': hp.uniform('alpha', 0.0, 1)\n",
    "    },\n",
    "\n",
    "    {\n",
    "        'type': 'randomforest',\n",
    "        'max_depth': hp.choice('max_depth', range(1,5)),\n",
    "        'max_features': hp.choice('max_features', range(1,8)),\n",
    "        'n_estimators': hp.choice('n_estimators', range(1,50))\n",
    "    },\n",
    "    {\n",
    "        'type': 'knn',\n",
    "        'n_neighbors': hp.choice('knn_n_neighbors', range(1,20))\n",
    "    }\n",
    "]\n",
    "space = hp.choice('regressor_type', hyper_param_options)\n",
    "\n",
    "def hyperopt_train_test(params):\n",
    "    regressor_type = params['type']\n",
    "    del params['type']\n",
    "    if regressor_type == 'lasso':\n",
    "        reg = linear_model.Lasso(**params)\n",
    "    elif regressor_type == 'randomforest':\n",
    "        reg = RandomForestRegressor(**params)\n",
    "    elif regressor_type == 'knn':\n",
    "        reg = neighbors.KNeighborsRegressor(**params)\n",
    "    else:\n",
    "        return 0\n",
    "    reg.fit(X_train, y_train)\n",
    "    ytest_pred = reg.predict(X_test)\n",
    "    return mean_squared_error(y_test, ytest_pred)"
   ]
  },
  {
   "cell_type": "markdown",
   "metadata": {},
   "source": [
    "**Run the Hyperopt Experiment**"
   ]
  },
  {
   "cell_type": "code",
   "execution_count": 12,
   "metadata": {},
   "outputs": [
    {
     "name": "stdout",
     "output_type": "stream",
     "text": [
      "new best:                                            \n",
      "0.16023019363577143                                  \n",
      "using                                                \n",
      "lasso                                                \n",
      "new best:                                            \n",
      "0.14928834782981487                                                            \n",
      "using                                                                          \n",
      "randomforest                                                                   \n",
      "new best:                                                                      \n",
      "0.13219366331996424                                                            \n",
      "using                                                                          \n",
      "randomforest                                                                   \n",
      "new best:                                                                       \n",
      "0.1318844455069969                                                              \n",
      "using                                                                           \n",
      "randomforest                                                                    \n",
      "new best:                                                                       \n",
      "0.1309520958093154                                                             \n",
      "using                                                                          \n",
      "randomforest                                                                   \n",
      "new best:                                                                      \n",
      "0.1272828836391507                                                             \n",
      "using                                                                          \n",
      "randomforest                                                                   \n",
      "new best:                                                                      \n",
      "0.12502444042458535                                                            \n",
      "using                                                                          \n",
      "randomforest                                                                   \n",
      "new best:                                                                       \n",
      "0.11513370763863645                                                             \n",
      "using                                                                           \n",
      "lasso                                                                           \n",
      "new best:                                                                       \n",
      "0.11372840730537462                                                             \n",
      "using                                                                           \n",
      "lasso                                                                           \n",
      "new best:                                                                        \n",
      "0.1137269162717489                                                               \n",
      "using                                                                            \n",
      "lasso                                                                            \n",
      "iters:                                                                           \n",
      "250                                                                             \n",
      ", acc:                                                                          \n",
      "0.2836253802804898                                                              \n",
      "using                                                                           \n",
      "{'alpha': 0.6884379630757793, 'type': 'lasso'}                                  \n",
      "new best:                                                                       \n",
      "0.11372674681441311                                                             \n",
      "using                                                                           \n",
      "lasso                                                                           \n",
      "iters:                                                                           \n",
      "500                                                                              \n",
      ", acc:                                                                           \n",
      "0.2831891314332084                                                               \n",
      "using                                                                            \n",
      "{'alpha': 0.6429871650730078, 'type': 'lasso'}                                   \n",
      "100%|██████████| 500/500 [00:27<00:00, 18.35it/s, best loss: 0.11372674681441311]\n",
      "best: {'alpha': 3.8800929466159645e-05, 'regressor_type': 0}\n"
     ]
    }
   ],
   "source": [
    "count = 0\n",
    "best = 100\n",
    "def f(params):\n",
    "    global best, count\n",
    "    count += 1\n",
    "    rmse = hyperopt_train_test(params.copy())\n",
    "    if rmse < best:\n",
    "        print ('new best:', rmse, 'using', params['type'])\n",
    "        best = rmse\n",
    "    if count % 250 == 0:\n",
    "        print ('iters:', count, ', acc:', rmse, 'using', params)\n",
    "    return {'loss': rmse, 'status': STATUS_OK}\n",
    "\n",
    "trials = Trials()\n",
    "best = fmin(f, space, algo=tpe.suggest, max_evals=500, trials=trials)\n",
    "print ('best:', best)"
   ]
  },
  {
   "cell_type": "markdown",
   "metadata": {},
   "source": [
    "## Convert Hyperopt Space to JSON"
   ]
  },
  {
   "cell_type": "code",
   "execution_count": 13,
   "metadata": {},
   "outputs": [],
   "source": [
    "import jsonpickle\n",
    "import uuid\n",
    "ruuid = str(uuid.uuid4().int)\n",
    "frozen_space = jsonpickle.encode(space)\n",
    "model_params = {\"hyper-param-space\": frozen_space, \"run_id\": ruuid}"
   ]
  },
  {
   "cell_type": "markdown",
   "metadata": {},
   "source": [
    "## Store Results in Arangopipe\n",
    "Note that we are tagging the run so that we can look up this run by the tag if we need to retrieve it from storage"
   ]
  },
  {
   "cell_type": "code",
   "execution_count": 14,
   "metadata": {},
   "outputs": [],
   "source": [
    "\n",
    "import datetime\n",
    "\n",
    "model_perf = {\"best\": jsonpickle.encode(best), \"run_id\": ruuid, \"timestamp\": str(datetime.datetime.now())}\n",
    "run_info = {\"dataset\" : ds_reg[\"_key\"],\\\n",
    "                    \"featureset\": fs_reg[\"_key\"],\\\n",
    "                    \"run_id\": ruuid,\\\n",
    "                    \"model\": model_reg[\"_key\"],\\\n",
    "                    \"model-params\": model_params,\\\n",
    "                    \"model-perf\": model_perf,\\\n",
    "                    \"tag\": \"Housing-Price-Hyperopt-Experiment\",\\\n",
    "                    \"project\": \"Housing Price Estimation Project\"}\n",
    "ap.log_run(run_info)\n"
   ]
  },
  {
   "cell_type": "markdown",
   "metadata": {},
   "source": [
    "## What was the best the model from the previous run?\n",
    "The tag (Housing-Price-Hyperopt-Experiment) that we applied while logging the previous experiment can be used to retrieve the results associated with the previous run. For example, we may be interested in the best model and its parameters from the experiment we just conducted."
   ]
  },
  {
   "cell_type": "code",
   "execution_count": 15,
   "metadata": {},
   "outputs": [],
   "source": [
    "mp = ap.lookup_modelperf(\"Housing-Price-Hyperopt-Experiment\")"
   ]
  },
  {
   "cell_type": "code",
   "execution_count": 16,
   "metadata": {},
   "outputs": [
    {
     "data": {
      "text/plain": [
       "'{\"alpha\": 3.8800929466159645e-05, \"regressor_type\": 0}'"
      ]
     },
     "execution_count": 16,
     "metadata": {},
     "output_type": "execute_result"
    }
   ],
   "source": [
    "mp[\"best\"]"
   ]
  },
  {
   "cell_type": "code",
   "execution_count": null,
   "metadata": {},
   "outputs": [],
   "source": []
  }
 ],
 "metadata": {
  "kernelspec": {
   "display_name": "Python 3",
   "language": "python",
   "name": "python3"
  },
  "language_info": {
   "codemirror_mode": {
    "name": "ipython",
    "version": 3
   },
   "file_extension": ".py",
   "mimetype": "text/x-python",
   "name": "python",
   "nbconvert_exporter": "python",
   "pygments_lexer": "ipython3",
   "version": "3.7.2"
  }
 },
 "nbformat": 4,
 "nbformat_minor": 2
}
